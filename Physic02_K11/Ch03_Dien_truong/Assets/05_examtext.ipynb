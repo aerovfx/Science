{
 "cells": [
  {
   "cell_type": "code",
   "execution_count": null,
   "metadata": {},
   "outputs": [
    {
     "data": {
      "application/vnd.jupyter.widget-view+json": {
       "model_id": "052e08b66a39436cb9913d1cc767076b",
       "version_major": 2,
       "version_minor": 0
      },
      "text/plain": [
       "Label(value='Câu hỏi 1: Điện trường là gì?')"
      ]
     },
     "metadata": {},
     "output_type": "display_data"
    },
    {
     "data": {
      "application/vnd.jupyter.widget-view+json": {
       "model_id": "9ae4ad8b4c434cea988e97458bac84c8",
       "version_major": 2,
       "version_minor": 0
      },
      "text/plain": [
       "RadioButtons(description='Lựa chọn:', options=('a) Một dạng vật chất tồn tại xung quanh các điện tích.', 'b) C…"
      ]
     },
     "metadata": {},
     "output_type": "display_data"
    },
    {
     "data": {
      "application/vnd.jupyter.widget-view+json": {
       "model_id": "a518bed484bb4afa9b24597dffb523a1",
       "version_major": 2,
       "version_minor": 0
      },
      "text/plain": [
       "Button(description='Kiểm tra đáp án', style=ButtonStyle())"
      ]
     },
     "metadata": {},
     "output_type": "display_data"
    }
   ],
   "source": [
    "# câu hỏi trắc nghiệm trong một notebook nbgrader\n",
    "\n",
    "# Câu 1\n",
    "from nbgrader import gradebook\n",
    "\n",
    "answer = \"a\"  # Đây là câu trả lời đúng\n",
    "# Học sinh sẽ phải trả lời đúng để được điểm\n",
    "\n",
    "# Bài kiểm tra chấm điểm\n",
    "def check_answer(student_answer):\n",
    "    if student_answer == answer:\n",
    "        return 1  # điểm cho câu trả lời đúng\n",
    "    else:\n",
    "        return 0  # điểm cho câu trả lời sai"
   ]
  },
  {
   "cell_type": "code",
   "execution_count": null,
   "metadata": {},
   "outputs": [],
   "source": [
    "from nbgrader import exercises\n",
    "\n",
    "# Tạo một câu hỏi mới\n",
    "question = exercises.Question(\n",
    "    prompt=\"Lực điện tĩnh giữa hai điện tích điểm phụ thuộc vào các yếu tố sau:\",\n",
    "    answers=[\"A\", \"B\", \"C\"],\n",
    "    correct_answers=[\"C\"]\n",
    ")\n",
    "\n",
    "# Tạo một bài trắc nghiệm mới\n",
    "assignment = exercises.Assignment(\n",
    "    questions=[question]\n",
    ")\n",
    "\n",
    "# In ra màn hình\n",
    "print(assignment)"
   ]
  }
 ],
 "metadata": {
  "kernelspec": {
   "display_name": "Python 3",
   "language": "python",
   "name": "python3"
  },
  "language_info": {
   "codemirror_mode": {
    "name": "ipython",
    "version": 3
   },
   "file_extension": ".py",
   "mimetype": "text/x-python",
   "name": "python",
   "nbconvert_exporter": "python",
   "pygments_lexer": "ipython3",
   "version": "3.11.11"
  }
 },
 "nbformat": 4,
 "nbformat_minor": 2
}
