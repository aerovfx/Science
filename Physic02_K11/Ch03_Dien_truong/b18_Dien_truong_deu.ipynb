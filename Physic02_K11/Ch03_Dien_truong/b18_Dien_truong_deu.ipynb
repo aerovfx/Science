{
 "cells": [
  {
   "cell_type": "markdown",
   "metadata": {},
   "source": [
    "# **Điện Trường Đều**\n",
    "\n",
    "## **1. Khái niệm điện trường đều**\n",
    "- **Điện trường đều** là một loại điện trường mà cường độ điện trường tại mọi điểm trong không gian đều có độ lớn như nhau và phương chiều giống nhau.\n",
    "- Trong một điện trường đều, các đường sức điện song song và có độ thưa đều nhau.\n",
    "- Cường độ điện trường \\( \\mathbf{E} \\) tại mọi điểm trong vùng điện trường đều là một vector có cùng độ lớn và phương chiều. \n",
    "\n",
    "## **2. Điện trường đều giữa hai bản phẳng nhiễm điện đặt song song**\n",
    "- **Điện trường đều** giữa hai bản phẳng nhiễm điện song song là một trong những trường hợp điển hình của điện trường đều.\n",
    "- Khi đặt hai bản phẳng nhiễm điện với điện tích đối diện, điện trường giữa hai bản này có cường độ đều tại mọi điểm giữa chúng.\n",
    "- Giả sử hai bản phẳng nhiễm điện có điện tích mặt \\( +Q \\) và \\( -Q \\), tạo ra một điện trường đều giữa chúng. Độ lớn của cường độ điện trường là:\n",
    "  \n",
    "  $$\n",
    "  E = \\frac{\\sigma}{\\epsilon_0}\n",
    "  $$\n",
    "\n",
    "  Trong đó:\n",
    "  - \\( \\sigma \\) là mật độ điện tích trên bản phẳng (C/m²).\n",
    "  - \\( \\epsilon_0 \\) là hằng số điện môi trong chân không, với giá trị \\( \\epsilon_0 = 8.85 \\times 10^{-12} \\, \\text{C}^2 / (\\text{N} \\cdot \\text{m}^2) \\).\n",
    "\n",
    "- Phương của cường độ điện trường là vuông góc với các bản phẳng, hướng từ bản có điện tích dương đến bản có điện tích âm.\n",
    "\n",
    "## **3. Tác dụng của điện trường đều đối với chuyển động của một điện tích**\n",
    "- Khi một điện tích \\( q \\) được đặt trong điện trường đều, nó sẽ chịu tác dụng của một lực điện có phương và chiều giống như cường độ điện trường.\n",
    "- Lực điện tác dụng lên điện tích \\( q \\) có độ lớn:\n",
    "\n",
    "  $$\n",
    "  F = qE\n",
    "  $$\n",
    "\n",
    "  Trong đó:\n",
    "  - \\( F \\) là lực điện tác dụng lên điện tích (N).\n",
    "  - \\( E \\) là cường độ điện trường (V/m).\n",
    "  - \\( q \\) là độ lớn của điện tích thử (C).\n",
    "\n",
    "- Do lực điện tác dụng lên điện tích \\( q \\), điện tích này sẽ chuyển động với gia tốc \\( a \\) theo phương của điện trường, với gia tốc được tính theo định lý Newton:\n",
    "\n",
    "  $$\n",
    "  a = \\frac{F}{m} = \\frac{qE}{m}\n",
    "  $$\n",
    "\n",
    "  Trong đó:\n",
    "  - \\( m \\) là khối lượng của điện tích thử (kg).\n",
    "\n",
    "## **4. Ứng dụng của điện trường đều**\n",
    "- **Tụ điện**: Một trong những ứng dụng phổ biến của điện trường đều là trong các tụ điện. Điện trường đều được sử dụng để lưu trữ năng lượng trong tụ điện.\n",
    "- **Thiết bị điện tử**: Các mạch điện tử như cảm biến, transistor, và các thiết bị tích hợp khác sử dụng điện trường đều để điều khiển các dòng điện.\n",
    "- **Tăng tốc hạt trong gia tốc tuyến tính**: Các gia tốc hạt sử dụng điện trường đều để tăng tốc hạt đến tốc độ cao, phục vụ nghiên cứu khoa học và y học.\n",
    "- **Tính toán trường điện trong các bài toán vật lý**: Điện trường đều giữa hai bản phẳng nhiễm điện được sử dụng trong các bài toán vật lý và công nghiệp để giải quyết các tình huống liên quan đến điện tử học và điện từ học."
   ]
  }
 ],
 "metadata": {
  "language_info": {
   "name": "python"
  }
 },
 "nbformat": 4,
 "nbformat_minor": 2
}
