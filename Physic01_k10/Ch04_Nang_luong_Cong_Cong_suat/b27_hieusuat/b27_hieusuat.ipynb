{
 "cells": [
  {
   "cell_type": "markdown",
   "metadata": {},
   "source": [
    "# Bài 27: Hiệu Suất\n",
    "\n",
    "## 1. Năng Lượng Có Ích và Năng Lượng Hao Phí\n",
    "\n",
    ":::{note}\n",
    "Trong mọi quá trình chuyển hóa năng lượng, một phần năng lượng được sử dụng để thực hiện công có ích, phần còn lại bị hao phí dưới dạng nhiệt, ma sát hoặc âm thanh.\n",
    ":::\n",
    "\n",
    "- **Năng lượng có ích ($W_{ci}$)**: Là phần năng lượng thực sự được sử dụng để thực hiện công mong muốn.\n",
    "- **Năng lượng hao phí ($W_{hp}$)**: Là phần năng lượng bị mất đi do các yếu tố như ma sát, nhiệt năng, âm thanh, v.v.\n",
    "\n",
    "Ví dụ:\n",
    "- **Động cơ ô tô**: Năng lượng từ nhiên liệu được sử dụng để làm xe chạy (có ích), nhưng một phần bị thất thoát do ma sát, nhiệt độ (hao phí).\n",
    "- **Bóng đèn**: Điện năng chuyển hóa thành quang năng (có ích), nhưng một phần bị chuyển thành nhiệt năng (hao phí).\n",
    "\n",
    "---\n",
    "\n",
    "## 2. Hiệu Suất\n",
    "\n",
    ":::{admonition} Công thức tính hiệu suất ⚙️\n",
    "Hiệu suất của một hệ thống được xác định bằng tỷ số giữa năng lượng có ích và năng lượng cung cấp:\n",
    ":::\n",
    "\n",
    "$$\n",
    "H = \\frac{W_{ci}}{W_{tp}} \\times 100\\%\n",
    "$$\n",
    "\n",
    "Hoặc nếu xét về công suất:\n",
    "\n",
    "$$\n",
    "H = \\frac{P_{ci}}{P_{tp}} \\times 100\\%\n",
    "$$\n",
    "\n",
    "Trong đó:\n",
    "- $H$ là **hiệu suất** (%).\n",
    "- $W_{ci}$ là **năng lượng có ích** (J).\n",
    "- $W_{tp}$ là **năng lượng toàn phần (tổng cộng)** (J).\n",
    "- $P_{ci}$ là **công suất có ích** (W).\n",
    "- $P_{tp}$ là **công suất toàn phần** (W).\n",
    "\n",
    ":::{tip}\n",
    "- Hiệu suất **luôn nhỏ hơn 100%**, vì luôn có một phần năng lượng bị hao phí.\n",
    "- Máy móc có hiệu suất càng cao thì càng tiết kiệm năng lượng.\n",
    ":::\n",
    "\n",
    "---\n",
    "\n",
    "```{admonition} Ứng dụng 🎯\n",
    "- **Động cơ nhiệt**: Tăng hiệu suất bằng cách giảm ma sát, tối ưu nhiên liệu.\n",
    "- **Thiết bị điện**: Bóng đèn LED có hiệu suất cao hơn bóng sợi đốt.\n",
    "- **Công nghệ tái tạo năng lượng**: Tối ưu pin mặt trời để giảm hao phí."
   ]
  }
 ],
 "metadata": {
  "language_info": {
   "name": "python"
  }
 },
 "nbformat": 4,
 "nbformat_minor": 2
}
