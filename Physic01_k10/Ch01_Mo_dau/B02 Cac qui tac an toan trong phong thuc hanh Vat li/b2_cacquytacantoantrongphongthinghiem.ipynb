{
 "cells": [
  {
   "cell_type": "markdown",
   "metadata": {},
   "source": [
    "**Các Quy Tắc An Toàn Trong Phòng Thí Nghiệm**\n",
    "=============================================\n",
    "\n",
    "### 1. An Toàn Khi Dùng Thiết Bị Thí Nghiệm\n",
    "\n",
    "An toàn là yếu tố quan trọng nhất khi thực hiện thí nghiệm. Sử dụng thiết bị thí nghiệm an toàn giúp giảm thiểu rủi ro và đảm bảo sự an toàn cho người sử dụng.\n",
    "\n",
    "**Quy Tắc An Toàn**\n",
    "\n",
    "* Luôn đọc kỹ hướng dẫn sử dụng trước khi sử dụng thiết bị thí nghiệm.\n",
    "* Đảm bảo thiết bị thí nghiệm được kiểm tra và bảo trì thường xuyên.\n",
    "* Sử dụng thiết bị thí nghiệm phù hợp với nhiệm vụ thí nghiệm.\n",
    "* Không sử dụng thiết bị thí nghiệm đã bị hư hỏng hoặc không còn hoạt động.\n",
    "* Luôn đeo đồ bảo hộ cá nhân (DBCN) như: mũ, găng tay, kính bảo hộ,... khi thực hiện thí nghiệm.\n",
    "\n",
    "**Ví Dụ**\n",
    "\n",
    "Khi thực hiện thí nghiệm điện, người sử dụng phải đeo DBCN để tránh bị điện giật. Ngoài ra, phải đảm bảo thiết bị thí nghiệm được kiểm tra và bảo trì thường xuyên để tránh sự cố.\n",
    "\n",
    "### 2. Nguy Cơ Mất An Toàn Trong Sử Dụng Thiết Bị Thí Nghiệm Vật Lý\n",
    "\n",
    "Thiết bị thí nghiệm vật lý có nhiều nguy cơ mất an toàn nếu không sử dụng đúng cách. Dưới đây là một số nguy cơ mất an toàn khi sử dụng thiết bị thí nghiệm vật lý:\n",
    "\n",
    "* Điện giật: Khi sử dụng thiết bị điện, người sử dụng phải đeo DBCN để tránh bị điện giật.\n",
    "* Bắn tia: Khi sử dụng thiết bị bắn tia, người sử dụng phải đeo kính bảo hộ để tránh bị bắn tia.\n",
    "* Chấn thương cơ thể: Khi sử dụng thiết bị thí nghiệm có phần chuyển động nhanh như máy quay, người sử dụng phải cẩn thận để tránh chấn thương cơ thể.\n",
    "\n",
    "**Ví Dụ**\n",
    "\n",
    "Khi thực hiện thí nghiệm điện, người sử dụng phải đeo DBCN để tránh bị điện giật. Ngoài ra, phải đảm bảo thiết bị thí nghiệm được kiểm tra và bảo trì thường xuyên để tránh sự cố.\n",
    "\n",
    "### 3. Nguy Cơ Mất An Toàn Trong Phòng Thực Hành\n",
    "\n",
    "Phòng thực hành là nơi người học sinh thực hiện thí nghiệm trực tiếp. Dưới đây là một số nguy cơ mất an toàn trong phòng thực hành:\n",
    "\n",
    "* Chấn thương cơ thể: Khi thực hiện thí nghiệm, người sử dụng phải cẩn thận để tránh chấn thương cơ thể.\n",
    "* Điện giật: Khi sử dụng thiết bị điện, người sử dụng phải đeo DBCN để tránh bị điện giật.\n",
    "* Bắn tia: Khi sử dụng thiết bị bắn tia, người sử dụng phải đeo kính bảo hộ để tránh bị bắn tia.\n",
    "\n",
    "**Ví Dụ**\n",
    "\n",
    "Khi thực hiện thí nghiệm điện, người sử dụng phải đeo DBCN để tránh bị điện giật. Ngoài ra, phải đảm bảo phòng thực hành được giữ sạch sẽ và khô ráo để tránh sự cố.\n",
    "\n"
   ]
  }
 ],
 "metadata": {
  "kernelspec": {
   "display_name": "Python 3",
   "language": "python",
   "name": "python3"
  },
  "language_info": {
   "codemirror_mode": {
    "name": "ipython",
    "version": 3
   },
   "file_extension": ".py",
   "mimetype": "text/x-python",
   "name": "python",
   "nbconvert_exporter": "python",
   "pygments_lexer": "ipython3",
   "version": "3.11.11"
  }
 },
 "nbformat": 4,
 "nbformat_minor": 2
}
