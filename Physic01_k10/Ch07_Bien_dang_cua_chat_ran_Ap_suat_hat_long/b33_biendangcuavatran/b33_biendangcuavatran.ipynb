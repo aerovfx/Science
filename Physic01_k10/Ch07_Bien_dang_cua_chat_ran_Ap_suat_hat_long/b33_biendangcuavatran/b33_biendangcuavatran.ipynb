{
 "cells": [
  {
   "cell_type": "markdown",
   "metadata": {},
   "source": [
    "**Biến Dạng Của Vật Rất**\n",
    "=====================\n",
    "\n",
    "### 1. Biến Dạng Đàn Hồi, Biến Dạng Kéo Và Biến Dạng Nén\n",
    "\n",
    "Khi một vật rắn bị tác dụng bởi một lực, nó sẽ biến dạng và thay đổi hình dạng ban đầu. Có ba loại biến dạng chính của vật rắn:\n",
    "\n",
    "* **Biến dạng đàn hồi**: Là biến dạng tạm thời của vật rắn khi bị tác dụng bởi một lực, sau đó vật rắn sẽ trở lại hình dạng ban đầu khi lực được gỡ bỏ.\n",
    "* **Biến dạng kéo**: Là biến dạng của vật rắn khi bị kéo dài hoặc rút ngắn.\n",
    "* **Biến dạng nén**: Là biến dạng của vật rắn khi bị ép nhỏ hoặc đẩy lùi.\n",
    "\n",
    "### 2. Lực Đàn Hồi Và Định Luật Hooke\n",
    "\n",
    "Khi một vật rắn bị biến dạng đàn hồi, nó sẽ được tác dụng bởi một lực đàn hồi. Lực đàn hồi là lực mà vật rắn phản ứng lại với lực ban đầu để trở lại hình dạng ban đầu.\n",
    "\n",
    "**Định Luật Hooke**\n",
    "\n",
    "Lực đàn hồi được mô tả bằng định luật Hooke, sau:\n",
    "\n",
    "F = k \\* x\n",
    "\n",
    "trong đó:\n",
    "- F là lực đàn hồi\n",
    "- k là hệ số đàn hồi của vật rắn\n",
    "- x là biến dạng đàn hồi của vật rắn\n",
    "\n",
    "Định luật Hooke cho thấy rằng lực đàn hồi tỷ lệ tuyến tính với biến dạng đàn hồi.\n",
    "\n",
    "**Ví dụ Minh Họa**\n",
    "\n",
    "Một dây sợi có chiều dài ban đầu 1 m và được kéo dài lên 2 m. Hệ số đàn hồi của dây sợi là 100 N/m. Lực đàn hồi tác dụng lên dây sợi là?\n",
    "\n",
    "F = k \\* x\n",
    "= 100 N/m \\* (2 - 1) m\n",
    "= 100 N\n",
    "\n",
    "**Kết Luận**\n",
    "\n",
    "Trên đây là một số khái niệm chính về biến dạng của vật rắn và lực đàn hồi. Hy vọng rằng người đọc đã hiểu và nhớ được các yếu tố quan trọng của bài học này.\n",
    "\n",
    "**Lời Gợi Ý cho Bài Tập**\n",
    "\n",
    "* Tính lực đàn hồi tác dụng lên một dây sợi có chiều dài ban đầu 1 m và hệ số đàn hồi là 50 N/m, khi nó bị kéo dài lên 2 m.\n",
    "* Tính biến dạng đàn hồi của một vật rắn có hệ số đàn hồi là 200 N/m, khi nó được tác dụng bởi lực đàn hồi 100 N."
   ]
  }
 ],
 "metadata": {
  "language_info": {
   "name": "python"
  }
 },
 "nbformat": 4,
 "nbformat_minor": 2
}
