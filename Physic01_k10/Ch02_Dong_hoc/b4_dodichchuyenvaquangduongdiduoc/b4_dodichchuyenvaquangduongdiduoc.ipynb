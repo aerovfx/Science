{
 "cells": [
  {
   "cell_type": "markdown",
   "metadata": {},
   "source": [
    "**Độ Dịch Chuyển Và Quãng Đường Đi Được**\n",
    "=====================================\n",
    "\n",
    "### 1. Vị Trí Vật Chuyển Động Tại Các Thời Điểm\n",
    "\n",
    "Khi một vật chuyển động, vị trí của nó sẽ thay đổi theo thời gian. Để hiểu rõ hơn về chuyển động của vật, chúng ta cần xác định vị trí của vật tại các thời điểm khác nhau.\n",
    "\n",
    "**Vị Trí Vật**\n",
    "\n",
    "* Là khoảng cách từ tâm O đến điểm M trong mặt phẳng.\n",
    "* Vị trí của vật được biểu diễn bởi vectơ vị trí r = OM.\n",
    "\n",
    "**Ví Dụ**\n",
    "\n",
    "Khi một xe ô tô di chuyển trên đường, vị trí của nó sẽ thay đổi theo thời gian. Tại thời điểm 0, vị trí của xe là A, tại thời điểm t1, vị trí của xe là B, và tại thời điểm t2, vị trí của xe là C.\n",
    "\n",
    "### 2. Độ Dịch Chuyển Và Quãng Đường Đi Được\n",
    "\n",
    "Độ dịch chuyển là sự thay đổi về vị trí của vật trong một khoảng thời gian nhất định. Quãng đường đi được là quãng đường mà vật di chuyển trong một khoảng thời gian nhất định.\n",
    "\n",
    "**Độ Dịch Chuyển**\n",
    "\n",
    "* Là sự thay đổi về vị trí của vật trong một khoảng thời gian nhất định.\n",
    "* Được biểu diễn bởi vectơ độ dịch chuyển s = r2 - r1.\n",
    "\n",
    "**Quãng Đường Đi Được**\n",
    "\n",
    "* Là quãng đường mà vật di chuyển trong một khoảng thời gian nhất định.\n",
    "* Được biểu diễn bằng đơn vị đo dài, như mét hoặc kilômét.\n",
    "\n",
    "**Ví Dụ**\n",
    "\n",
    "Khi một xe ô tô di chuyển từ A đến B, độ dịch chuyển của xe là AB, và quãng đường đi được của xe cũng là AB. Nếu xe tiếp tục di chuyển từ B đến C, độ dịch chuyển của xe sẽ là BC, và quãng đường đi được của xe cũng là BC.\n",
    "\n",
    "### 3. Tổng Hợp Độ Dịch Chuyển\n",
    "\n",
    "Khi một vật chuyển động trong một khoảng thời gian nhất định, độ dịch chuyển của nó có thể được tính bằng cách sử dụng công thức:\n",
    "\n",
    "s = √((x2 - x1)^2 + (y2 - y1)^2)\n",
    "\n",
    "đó là, s là độ dịch chuyển của vật, x1 và x2 là các vị trí x của vật tại hai thời điểm khác nhau, và y1 và y2 là các vị trí y của vật tại hai thời điểm khác nhau.\n",
    "\n",
    "**Ví Dụ**\n",
    "\n",
    "Khi một xe ô tô di chuyển từ A(0, 0) đến B(3, 4), độ dịch chuyển của xe có thể được tính bằng cách sử dụng công thức trên:\n",
    "\n",
    "s = √((3 - 0)^2 + (4 - 0)^2)\n",
    "= √(9 + 16)\n",
    "= √25\n",
    "= 5\n",
    "\n",
    "Vậy độ dịch chuyển của xe là 5 mét.\n"
   ]
  },
  {
   "cell_type": "code",
   "execution_count": 1,
   "metadata": {},
   "outputs": [
    {
     "name": "stdout",
     "output_type": "stream",
     "text": [
      "Độ dịch chuyển: 5.0\n"
     ]
    }
   ],
   "source": [
    "\n",
    "## Mã Python dưới đây là một ví dụ về cách tính độ dịch chuyển và quãng đường đi được:\n",
    "\n",
    "\n",
    "import math\n",
    "\n",
    "# Tạo mảng dữ liệu cho vị trí x và y tại các thời điểm khác nhau\n",
    "x1, y1 = 0, 0\n",
    "x2, y2 = 3, 4\n",
    "\n",
    "# Tính độ dịch chuyển\n",
    "s = math.sqrt((x2 - x1)**2 + (y2 - y1)**2)\n",
    "\n",
    "# In ra kết quả\n",
    "print(\"Độ dịch chuyển:\", s)\n"
   ]
  },
  {
   "cell_type": "code",
   "execution_count": 2,
   "metadata": {},
   "outputs": [
    {
     "data": {
      "image/png": "[encoded data removed]",
      "text/plain": [
       "<Figure size 600x600 with 1 Axes>"
      ]
     },
     "metadata": {},
     "output_type": "display_data"
    }
   ],
   "source": [
    "import math\n",
    "import matplotlib.pyplot as plt\n",
    "\n",
    "# Tọa độ điểm ban đầu và điểm cuối\n",
    "x1, y1 = 0, 0\n",
    "x2, y2 = 3, 4\n",
    "\n",
    "# Tính độ dịch chuyển (đường thẳng nối 2 điểm)\n",
    "s = math.sqrt((x2 - x1) ** 2 + (y2 - y1) ** 2)\n",
    "\n",
    "# Vẽ biểu đồ\n",
    "plt.figure(figsize=(6, 6))\n",
    "plt.plot([x1, x2], [y1, y2], 'ro-', label=\"Độ dịch chuyển\")  # Đường thẳng dịch chuyển\n",
    "plt.scatter([x1, x2], [y1, y2], color='blue', zorder=3)  # Điểm đầu và cuối\n",
    "plt.text(x1, y1, \" A (0,0)\", fontsize=12, verticalalignment='bottom')\n",
    "plt.text(x2, y2, \" B (3,4)\", fontsize=12, verticalalignment='bottom')\n",
    "\n",
    "# Định dạng biểu đồ\n",
    "plt.xlabel(\"X\")\n",
    "plt.ylabel(\"Y\")\n",
    "plt.title(\"Minh họa độ dịch chuyển\")\n",
    "plt.grid(True)\n",
    "plt.legend()\n",
    "plt.xlim(-1, 5)\n",
    "plt.ylim(-1, 5)\n",
    "\n",
    "# Hiển thị biểu đồ\n",
    "plt.show()"
   ]
  }
 ],
 "metadata": {
  "kernelspec": {
   "display_name": "Python 3",
   "language": "python",
   "name": "python3"
  },
  "language_info": {
   "codemirror_mode": {
    "name": "ipython",
    "version": 3
   },
   "file_extension": ".py",
   "mimetype": "text/x-python",
   "name": "python",
   "nbconvert_exporter": "python",
   "pygments_lexer": "ipython3",
   "version": "3.11.11"
  }
 },
 "nbformat": 4,
 "nbformat_minor": 2
}
