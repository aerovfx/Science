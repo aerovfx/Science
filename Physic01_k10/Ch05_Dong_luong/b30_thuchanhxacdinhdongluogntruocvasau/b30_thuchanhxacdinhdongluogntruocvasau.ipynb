{
 "cells": [
  {
   "cell_type": "code",
   "execution_count": 8,
   "metadata": {},
   "outputs": [
    {
     "name": "stdout",
     "output_type": "stream",
     "text": [
      "# XÁC ĐỊNH ĐỘNG LƯỢNG TRƯỚC VÀ SAU VA CHẠM\n",
      "## Dụng cụ thí nghiệm\n",
      "- Xe lăn vật lý hoặc bi thép để thực hiện va chạm\n",
      "- Mặt phẳng ngang có thước đo\n",
      "- Cảm biến đo vận tốc hoặc đồng hồ bấm giờ\n",
      "- Cân điện tử để đo khối lượng vật\n",
      "## Thiết kế phương án\n",
      "- Đặt vật 1 có vận tốc ban đầu v1, vật 2 đứng yên.\n",
      "- Sau va chạm, đo vận tốc v1' và v2'.\n",
      "- So sánh động lượng trước và sau va chạm để kiểm tra bảo toàn động lượng.\n",
      "## Tiến hành thí nghiệm\n",
      "- Thả vật 1 trượt trên mặt phẳng và ghi nhận vận tốc.\n",
      "- Để vật 1 va chạm với vật 2, ghi lại vận tốc sau va chạm.\n",
      "- Tính động lượng trước và sau theo công thức: p = m * v\n"
     ]
    },
    {
     "data": {
      "text/html": [
       "<div>\n",
       "<style scoped>\n",
       "    .dataframe tbody tr th:only-of-type {\n",
       "        vertical-align: middle;\n",
       "    }\n",
       "\n",
       "    .dataframe tbody tr th {\n",
       "        vertical-align: top;\n",
       "    }\n",
       "\n",
       "    .dataframe thead th {\n",
       "        text-align: right;\n",
       "    }\n",
       "</style>\n",
       "<table border=\"1\" class=\"dataframe\">\n",
       "  <thead>\n",
       "    <tr style=\"text-align: right;\">\n",
       "      <th></th>\n",
       "      <th>Vật</th>\n",
       "      <th>Khối lượng (kg)</th>\n",
       "      <th>Vận tốc trước (m/s)</th>\n",
       "      <th>Vận tốc sau (m/s)</th>\n",
       "      <th>Động lượng trước (kg.m/s)</th>\n",
       "      <th>Động lượng sau (kg.m/s)</th>\n",
       "    </tr>\n",
       "  </thead>\n",
       "  <tbody>\n",
       "    <tr>\n",
       "      <th>0</th>\n",
       "      <td>Vật 1</td>\n",
       "      <td>0.5</td>\n",
       "      <td>2.0</td>\n",
       "      <td>0.8</td>\n",
       "      <td>1.0</td>\n",
       "      <td>0.4</td>\n",
       "    </tr>\n",
       "    <tr>\n",
       "      <th>1</th>\n",
       "      <td>Vật 2</td>\n",
       "      <td>0.5</td>\n",
       "      <td>0.0</td>\n",
       "      <td>1.2</td>\n",
       "      <td>0.0</td>\n",
       "      <td>0.6</td>\n",
       "    </tr>\n",
       "  </tbody>\n",
       "</table>\n",
       "</div>"
      ],
      "text/plain": [
       "     Vật  Khối lượng (kg)  Vận tốc trước (m/s)  Vận tốc sau (m/s)  \\\n",
       "0  Vật 1              0.5                  2.0                0.8   \n",
       "1  Vật 2              0.5                  0.0                1.2   \n",
       "\n",
       "   Động lượng trước (kg.m/s)  Động lượng sau (kg.m/s)  \n",
       "0                        1.0                      0.4  \n",
       "1                        0.0                      0.6  "
      ]
     },
     "metadata": {},
     "output_type": "display_data"
    },
    {
     "data": {
      "image/png": "[encoded data removed]",
      "text/plain": [
       "<Figure size 640x480 with 1 Axes>"
      ]
     },
     "metadata": {},
     "output_type": "display_data"
    },
    {
     "name": "stdout",
     "output_type": "stream",
     "text": [
      "✅ Động lượng được bảo toàn trong giới hạn sai số.\n"
     ]
    }
   ],
   "source": [
    "import numpy as np\n",
    "import matplotlib.pyplot as plt\n",
    "import pandas as pd\n",
    "\n",
    "# Tiêu đề bài thực hành\n",
    "print(\"# XÁC ĐỊNH ĐỘNG LƯỢNG TRƯỚC VÀ SAU VA CHẠM\")\n",
    "\n",
    "## 1. Dụng cụ thí nghiệm\n",
    "print(\"## Dụng cụ thí nghiệm\")\n",
    "print(\"- Xe lăn vật lý hoặc bi thép để thực hiện va chạm\")\n",
    "print(\"- Mặt phẳng ngang có thước đo\")\n",
    "print(\"- Cảm biến đo vận tốc hoặc đồng hồ bấm giờ\")\n",
    "print(\"- Cân điện tử để đo khối lượng vật\")\n",
    "\n",
    "## 2. Thiết kế phương án\n",
    "print(\"## Thiết kế phương án\")\n",
    "print(\"- Đặt vật 1 có vận tốc ban đầu v1, vật 2 đứng yên.\")\n",
    "print(\"- Sau va chạm, đo vận tốc v1' và v2'.\")\n",
    "print(\"- So sánh động lượng trước và sau va chạm để kiểm tra bảo toàn động lượng.\")\n",
    "\n",
    "## 3. Tiến hành thí nghiệm\n",
    "print(\"## Tiến hành thí nghiệm\")\n",
    "print(\"- Thả vật 1 trượt trên mặt phẳng và ghi nhận vận tốc.\")\n",
    "print(\"- Để vật 1 va chạm với vật 2, ghi lại vận tốc sau va chạm.\")\n",
    "print(\"- Tính động lượng trước và sau theo công thức: p = m * v\")\n",
    "\n",
    "# Số liệu mẫu\n",
    "m1 = 0.5  # kg\n",
    "m2 = 0.5  # kg\n",
    "v1_before = 2.0  # m/s\n",
    "v2_before = 0.0  # m/s\n",
    "v1_after = 0.8  # m/s\n",
    "v2_after = 1.2  # m/s\n",
    "\n",
    "# Tính động lượng\n",
    "p_before = m1 * v1_before + m2 * v2_before\n",
    "p_after = m1 * v1_after + m2 * v2_after\n",
    "\n",
    "# Bảng kết quả\n",
    "data = {\"Vật\": [\"Vật 1\", \"Vật 2\"],\n",
    "        \"Khối lượng (kg)\": [m1, m2],\n",
    "        \"Vận tốc trước (m/s)\": [v1_before, v2_before],\n",
    "        \"Vận tốc sau (m/s)\": [v1_after, v2_after],\n",
    "        \"Động lượng trước (kg.m/s)\": [m1*v1_before, m2*v2_before],\n",
    "        \"Động lượng sau (kg.m/s)\": [m1*v1_after, m2*v2_after]}\n",
    "\n",
    "# Chuyển dữ liệu thành DataFrame\n",
    "results_df = pd.DataFrame(data)\n",
    "display(results_df)\n",
    "\n",
    "# Vẽ đồ thị động lượng trước và sau va chạm\n",
    "labels = [\"Trước va chạm\", \"Sau va chạm\"]\n",
    "values = [p_before, p_after]\n",
    "\n",
    "plt.bar(labels, values, color=['blue', 'green'])\n",
    "plt.ylabel(\"Động lượng (kg.m/s)\")\n",
    "plt.title(\"So sánh động lượng trước và sau va chạm\")\n",
    "plt.show()\n",
    "\n",
    "# Kiểm tra bảo toàn động lượng\n",
    "if np.isclose(p_before, p_after, atol=0.01):\n",
    "    print(\"✅ Động lượng được bảo toàn trong giới hạn sai số.\")\n",
    "else:\n",
    "    print(\"⚠️ Động lượng không bảo toàn, có thể do ma sát hoặc sai số đo lường.\")\n"
   ]
  }
 ],
 "metadata": {
  "kernelspec": {
   "display_name": "Python 3",
   "language": "python",
   "name": "python3"
  },
  "language_info": {
   "codemirror_mode": {
    "name": "ipython",
    "version": 3
   },
   "file_extension": ".py",
   "mimetype": "text/x-python",
   "name": "python",
   "nbconvert_exporter": "python",
   "pygments_lexer": "ipython3",
   "version": "3.11.11"
  }
 },
 "nbformat": 4,
 "nbformat_minor": 2
}
